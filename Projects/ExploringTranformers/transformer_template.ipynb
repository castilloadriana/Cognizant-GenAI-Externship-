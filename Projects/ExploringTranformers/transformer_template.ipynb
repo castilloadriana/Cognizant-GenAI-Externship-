{
 "cells": [
  {
   "cell_type": "markdown",
   "id": "1c7d2897",
   "metadata": {},
   "source": [
    "# Transformer Text Generation\n",
    "\n",
    "In this notebook, we will explore how transformer models (like GPT-2) can generate text based on a given prompt. We will experiment with generating text by adjusting parameters like temperature and sequence length.\n",
    "\n",
    "## Instructions\n",
    "1. Change the prompt below to experiment with different types of text generation.\n",
    "2. Adjust the `max_length` and `temperature` parameters to see how they affect the output.\n",
    "3. Generate at least 3 samples with different prompts and compare the results.\n"
   ]
  },
  {
   "cell_type": "code",
   "execution_count": null,
   "id": "73fb2696-fa3e-46f0-946d-a77ea1c2b955",
   "metadata": {},
   "outputs": [],
   "source": [
    "!pip install transformers torch\n"
   ]
  },
  {
   "cell_type": "code",
   "execution_count": 73,
   "id": "6dbce095",
   "metadata": {},
   "outputs": [
    {
     "name": "stderr",
     "output_type": "stream",
     "text": [
      "Device set to use mps:0\n",
      "Truncation was not explicitly activated but `max_length` is provided a specific value, please use `truncation=True` to explicitly truncate examples to max length. Defaulting to 'longest_first' truncation strategy. If you encode pairs of sequences (GLUE-style) with the tokenizer you can select this strategy more precisely by providing a specific strategy to `truncation`.\n",
      "Setting `pad_token_id` to `eos_token_id`:50256 for open-end generation.\n",
      "Both `max_new_tokens` (=256) and `max_length`(=50) seem to have been set. `max_new_tokens` will take precedence. Please refer to the documentation for more information. (https://huggingface.co/docs/transformers/main/en/main_classes/text_generation)\n"
     ]
    },
    {
     "name": "stdout",
     "output_type": "stream",
     "text": [
      "ONE\n"
     ]
    },
    {
     "name": "stderr",
     "output_type": "stream",
     "text": [
      "Setting `pad_token_id` to `eos_token_id`:50256 for open-end generation.\n",
      "Both `max_new_tokens` (=256) and `max_length`(=50) seem to have been set. `max_new_tokens` will take precedence. Please refer to the documentation for more information. (https://huggingface.co/docs/transformers/main/en/main_classes/text_generation)\n"
     ]
    },
    {
     "name": "stdout",
     "output_type": "stream",
     "text": [
      "In the future, education will become very complex. There are many factors that need to be considered. Most of them will likely be determined by the current student's needs, by the needs of the student community, by the student's ability to pay the bills of schooling and by the school principal or local school district. The student's need to meet these needs will be largely determined by the student's ability to pay the high school fees or by the student's willingness to pay them. It remains to be seen how effectively these factors will manifest themselves in the classroom. Will a student really understand the importance of a free-for-all school to be a good place to be? Will a student have this knowledge of what a good teacher is interested in? All of these factors can make a student feel comfortable in class. It is important to remember that students and faculty participate differently in the classroom. Those who feel that their learning is important may feel that if they are given the chance to learn in class they must come up with a good explanation of basic concepts and have a say in how others can better understand their own learning. They may find that their knowledge is so valuable that they would prefer doing the same thing for another student. In addition, the student will be more likely to find themselves in an area that is\n",
      "TWO\n"
     ]
    },
    {
     "name": "stderr",
     "output_type": "stream",
     "text": [
      "Setting `pad_token_id` to `eos_token_id`:50256 for open-end generation.\n",
      "Both `max_new_tokens` (=256) and `max_length`(=50) seem to have been set. `max_new_tokens` will take precedence. Please refer to the documentation for more information. (https://huggingface.co/docs/transformers/main/en/main_classes/text_generation)\n"
     ]
    },
    {
     "name": "stdout",
     "output_type": "stream",
     "text": [
      "In the future, education will be a way of life for the young, and the future of the world will be a way of life for the young.\n",
      "\n",
      "The world will be a better place.\n",
      "\n",
      "The world will be a better place.\n",
      "\n",
      "The world will be a better place.\n",
      "\n",
      "The world will be a better place.\n",
      "\n",
      "The world will be a better place.\n",
      "\n",
      "The world will be a better place.\n",
      "\n",
      "The world will be a better place.\n",
      "\n",
      "The world will be a better place.\n",
      "\n",
      "The world will be a better place.\n",
      "\n",
      "The world will be a better place.\n",
      "\n",
      "The world will be a better place.\n",
      "\n",
      "The world will be a better place.\n",
      "\n",
      "The world will be a better place.\n",
      "\n",
      "The world will be a better place.\n",
      "\n",
      "The world will be a better place.\n",
      "\n",
      "The world will be a better place.\n",
      "\n",
      "The world will be a better place.\n",
      "\n",
      "The world will be a better place.\n",
      "\n",
      "The world will be a better place.\n",
      "\n",
      "The world will be a better place.\n",
      "\n",
      "The world will be a better place.\n",
      "\n",
      "The world will be a better place.\n",
      "\n",
      "The world will be a better place.\n",
      "\n",
      "THREE\n",
      "In the future, education will be a key part of the solution.\n",
      "\n",
      "\"We need to be able to provide a high quality education for all students,\" said Dr. David B. Guggenheim, director of the Center for Education and the Future at the University of California, Berkeley. \"We need to be able to provide a high quality education for all students.\"\n",
      "\n",
      "The California Department of Education has been working with the state's public schools to develop a curriculum that will help students learn about the state's educational system.\n",
      "\n",
      "The state's public schools have been working with the state's public schools to develop a curriculum that will help students learn about the state's educational system.\n",
      "\n",
      "The state's public schools have been working with the state's public schools to develop a curriculum that will help students learn about the state's educational system.\n",
      "\n",
      "The state's public schools have been working with the state's public schools to develop a curriculum that will help students learn about the state's educational system.\n",
      "\n",
      "The state's public schools have been working with the state's public schools to develop a curriculum that will help students learn about the state's educational system.\n",
      "\n",
      "The state's public schools have been working with the state's public schools to develop a curriculum that will help students learn about\n"
     ]
    }
   ],
   "source": [
    "\n",
    "from transformers import pipeline\n",
    "\n",
    "# Load GPT-2 text generation model\n",
    "generator = pipeline('text-generation', model='gpt2')\n",
    "\n",
    "# Set your prompt\n",
    "prompt = 'In the future, education will'\n",
    "\n",
    "# Generate text\n",
    "print(\"ONE\")\n",
    "result = generator(prompt, max_length=50, temperature=0.9)\n",
    "print(result[0]['generated_text'])\n",
    "\n",
    "print(\"TWO\")\n",
    "result = generator(prompt, max_length=50, temperature=0.4)\n",
    "print(result[0]['generated_text'])\n",
    "\n",
    "print(\"THREE\")\n",
    "result = generator(prompt, max_length=50, temperature=0.1)\n",
    "print(result[0]['generated_text'])"
   ]
  },
  {
   "cell_type": "code",
   "execution_count": 65,
   "id": "c69a033d",
   "metadata": {},
   "outputs": [
    {
     "name": "stderr",
     "output_type": "stream",
     "text": [
      "Setting `pad_token_id` to `eos_token_id`:50256 for open-end generation.\n",
      "Both `max_new_tokens` (=256) and `max_length`(=50) seem to have been set. `max_new_tokens` will take precedence. Please refer to the documentation for more information. (https://huggingface.co/docs/transformers/main/en/main_classes/text_generation)\n",
      "Setting `pad_token_id` to `eos_token_id`:50256 for open-end generation.\n",
      "Both `max_new_tokens` (=256) and `max_length`(=100) seem to have been set. `max_new_tokens` will take precedence. Please refer to the documentation for more information. (https://huggingface.co/docs/transformers/main/en/main_classes/text_generation)\n"
     ]
    },
    {
     "name": "stdout",
     "output_type": "stream",
     "text": [
      "The impact of AI on the future of work is still largely unknown. However, some major advances in neural network science are being made, from computational neural processing and machine learning to artificial intelligence.\n",
      "\n",
      "The report is presented in the journal Frontiers in Artificial Intelligence (FASI).\n",
      "Once upon a time, there was a kingdom that was the only one in the world. That kingdom, the Kingdom of Heaven, and all the kingdoms of the world, were ruled by the Lord. The Lord was the King of Heaven. And if he would not rule the Kingdom of Heaven, he would not be king to the world.\n",
      "\n",
      "At that time, a group of people were gathered to gather around a small building. It was called the Temple of the King.\n",
      "\n",
      "\"You guys aren't from here, aren't you?\"\n",
      "\n",
      "\"Yes, I am from here. I have been in this place for a long time, I am a member of the Kingdom of Heaven. I have been in this place for many years. I have been here for many years. I have been here before even becoming King of Heaven, I have been here for many years. I have been here until now. I have been here for many years. I am here to rule the world.\"\n",
      "\n",
      "\"So you are from here?\"\n",
      "\n",
      "\"Yes, I am from here. I have been in this place for many years. I have been here for many years. I have been here before even becoming King of Heaven. I have been here before even becoming King of Heaven. I have been here before\n"
     ]
    }
   ],
   "source": [
    "# Experiment with different prompts\n",
    "prompt = 'The impact of AI on the future of work'\n",
    "result = generator(prompt, max_length=50, temperature=0.8)\n",
    "print(result[0]['generated_text'])\n",
    "\n",
    "prompt = 'Once upon a time, there was a kingdom'\n",
    "result = generator(prompt, max_length=100, temperature=0.6)\n",
    "print(result[0]['generated_text'])"
   ]
  },
  {
   "cell_type": "code",
   "execution_count": 30,
   "id": "1019b18b-55cc-444c-b40c-4a3023ec34bd",
   "metadata": {},
   "outputs": [
    {
     "name": "stderr",
     "output_type": "stream",
     "text": [
      "Setting `pad_token_id` to `eos_token_id`:50256 for open-end generation.\n",
      "Both `max_new_tokens` (=256) and `max_length`(=80) seem to have been set. `max_new_tokens` will take precedence. Please refer to the documentation for more information. (https://huggingface.co/docs/transformers/main/en/main_classes/text_generation)\n"
     ]
    },
    {
     "name": "stdout",
     "output_type": "stream",
     "text": [
      "AUNTY EM :Good morning, Dorothy! DOROTHY: Good morning, Aunty Em! How are you doing? AUNTY EM :So...happy to see you, all right? DOROTHY: Oh, thank you! Aunty Em, what you did here, didn't you? DOROTHY: I found you an old lady who has some old lady friend, that's Mrs. Bessy, but we had a meeting at a hotel on the other side. Mr. Bessy... DOROTHY: I did. DOROTHY:...he's there. I'm sure Mrs. Bessy wants him. DOROTHY: He did...? DOROTHY: He's doing the following. I don't know what--I do, he's a good guy. I just want to be a good guy, so... DOROTHY: No, I didn't want him to do that! DOROTHY: That's all, I mean, but it did make it to the point. I... I just want to know, I didn't want him to hurt someone or hurt somebody so badly. DOROTHY: But I... I didn't mean to hurt him, I mean, I didn't hurt him. I just wanted to know what really happened, which I don't even know. I just wanted\n"
     ]
    }
   ],
   "source": [
    "# Experiment with different prompts\n",
    "prompt = 'AUNTY EM :Good morning, Dorothy! DOROTHY: Good morning, Aunty Em! How are you doing? AUNTY EM :' \n",
    "result = generator(prompt, max_length= 80, temperature=0.9)\n",
    "print(result[0]['generated_text'])\n"
   ]
  },
  {
   "cell_type": "code",
   "execution_count": 44,
   "id": "8be2c77f-34df-41c3-97d4-3d1603b8dfa8",
   "metadata": {},
   "outputs": [
    {
     "name": "stderr",
     "output_type": "stream",
     "text": [
      "Setting `pad_token_id` to `eos_token_id`:50256 for open-end generation.\n",
      "Both `max_new_tokens` (=256) and `max_length`(=80) seem to have been set. `max_new_tokens` will take precedence. Please refer to the documentation for more information. (https://huggingface.co/docs/transformers/main/en/main_classes/text_generation)\n"
     ]
    },
    {
     "name": "stdout",
     "output_type": "stream",
     "text": [
      "AUNTY EM :Good morning, Dorothy! DOROTHY: Good morning, Aunty Em! How are you doing? AUNTY EM :Good. DOROTHY: Good. DOROTHY: Good. DOROTHY: Good. DOROTHY: Good. DOROTHY: Good. DOROTHY: Good. DOROTHY: Good. DOROTHY: Good. DOROTHY: Good. DOROTHY: Good. DOROTHY: Good. DOROTHY: Good. DOROTHY: Good. DOROTHY: Good. DOROTHY: Good. DOROTHY: Good. DOROTHY: Good. DOROTHY: Good. DOROTHY: Good. DOROTHY: Good. DOROTHY: Good. DOROTHY: Good. DOROTHY: Good. DOROTHY: Good. DOROTHY: Good. DOROTHY: Good. DOROTHY: Good. DOROTHY: Good. DOROTHY: Good. DOROTHY: Good. DOROTHY: Good. DOROTHY: Good. DOROTHY: Good. DOROTHY: Good. DOROTHY: Good. DOROTHY: Good. DOR\n"
     ]
    }
   ],
   "source": [
    "prompt = 'AUNTY EM :Good morning, Dorothy! DOROTHY: Good morning, Aunty Em! How are you doing? AUNTY EM :'\n",
    "result = generator(prompt, max_length=80, temperature=0.4, )\n",
    "print(result[0]['generated_text'])"
   ]
  },
  {
   "cell_type": "code",
   "execution_count": 42,
   "id": "1c440f61-5eb9-4d2a-b07d-f400a529188e",
   "metadata": {},
   "outputs": [
    {
     "name": "stderr",
     "output_type": "stream",
     "text": [
      "Setting `pad_token_id` to `eos_token_id`:50256 for open-end generation.\n",
      "Both `max_new_tokens` (=256) and `max_length`(=80) seem to have been set. `max_new_tokens` will take precedence. Please refer to the documentation for more information. (https://huggingface.co/docs/transformers/main/en/main_classes/text_generation)\n"
     ]
    },
    {
     "name": "stdout",
     "output_type": "stream",
     "text": [
      "AUNTY EM :Good morning, Dorothy! DOROTHY: Good morning, Aunty Em! How are you doing? AUNTY EM :Good morning, Dorothy! DOROTHY: Good morning, Aunty Em! How are you doing? AUNTY EM :Good morning, Dorothy! DOROTHY: Good morning, Aunty Em! How are you doing? AUNTY EM :Good morning, Dorothy! DOROTHY: Good morning, Aunty Em! How are you doing? AUNTY EM :Good morning, Dorothy! DOROTHY: Good morning, Aunty Em! How are you doing? AUNTY EM :Good morning, Dorothy! DOROTHY: Good morning, Aunty Em! How are you doing? AUNTY EM :Good morning, Dorothy! DOROTHY: Good morning, Aunty Em! How are you doing? AUNTY EM :Good morning, Dorothy! DOROTHY: Good morning, Aunty Em! How are you doing? AUNTY EM :Good morning, Dorothy! DOROTHY: Good morning, Aunty Em! How are you doing? AUNTY EM :Good morning, Dorothy! DOROTHY: Good morning, Aunty Em! How are you doing? AUNTY EM :Good morning, Dorothy\n"
     ]
    }
   ],
   "source": [
    "prompt = 'AUNTY EM :Good morning, Dorothy! DOROTHY: Good morning, Aunty Em! How are you doing? AUNTY EM :'\n",
    "result = generator(prompt, max_length=80, temperature=0.1, )\n",
    "print(result[0]['generated_text'])"
   ]
  },
  {
   "cell_type": "code",
   "execution_count": 52,
   "id": "7de6ed45-affe-407d-a9ee-1b097779f0ca",
   "metadata": {},
   "outputs": [
    {
     "name": "stderr",
     "output_type": "stream",
     "text": [
      "Setting `pad_token_id` to `eos_token_id`:50256 for open-end generation.\n",
      "Both `max_new_tokens` (=256) and `max_length`(=120) seem to have been set. `max_new_tokens` will take precedence. Please refer to the documentation for more information. (https://huggingface.co/docs/transformers/main/en/main_classes/text_generation)\n"
     ]
    },
    {
     "name": "stdout",
     "output_type": "stream",
     "text": [
      "A fundamental chemical fact about plants is their ability to perform photosynthesis, a process where they convert light energy into chemical energy in the form of sugars. This process utilizes photosynthesis to produce sugars and, eventually, leaves.\n",
      "\n",
      "The plant \"can be harvested from a single plant or harvested from multiple plants\", but it also has a very tiny proportion of the sunlight it consumes, meaning it doesn't grow as fast. So you need to get a lot of sunlight in order to grow food. You need a lot of sunlight to grow food, and your plants need sunlight to grow food. The plants that use the most light, the ones that are able to use the least amount of sunlight, have more of the maximum amount of food they need.\n",
      "\n",
      "The difference between the light in and the light in means that you need to use more light to grow food.\n",
      "\n",
      "The difference between how much light an animal absorbs into its body, and how much it absorbs into its food is the difference between how much light an animal is losing from the sun's rays and how much light there is in its body.\n",
      "\n",
      "What About Energy?\n",
      "\n",
      "The world has a great many different energy sources. Energy is what you burn from your body when you are alive; it can be used to feed your body or you can convert it into something valuable.\n",
      "\n",
      "The use of energy is one of a number of different ways that I know of\n"
     ]
    }
   ],
   "source": [
    "prompt = 'A fundamental chemical fact about plants is their ability to perform photosynthesis, a process where they convert light energy into chemical energy in the form of sugars. This process utilizes'\n",
    "result = generator(prompt, max_length=120, temperature=0.8, )\n",
    "print(result[0]['generated_text'])"
   ]
  },
  {
   "cell_type": "code",
   "execution_count": 53,
   "id": "72947c0a-8c02-4ed1-82c0-fd694f35282e",
   "metadata": {},
   "outputs": [
    {
     "name": "stderr",
     "output_type": "stream",
     "text": [
      "Setting `pad_token_id` to `eos_token_id`:50256 for open-end generation.\n",
      "Both `max_new_tokens` (=256) and `max_length`(=120) seem to have been set. `max_new_tokens` will take precedence. Please refer to the documentation for more information. (https://huggingface.co/docs/transformers/main/en/main_classes/text_generation)\n"
     ]
    },
    {
     "name": "stdout",
     "output_type": "stream",
     "text": [
      "A fundamental chemical fact about plants is their ability to perform photosynthesis, a process where they convert light energy into chemical energy in the form of sugars. This process utilizes photosynthesis to produce energy, which is why plants are so important to our understanding of the world.\n",
      "\n",
      "The photosynthetic process is the process by which plants produce energy. Plants use photosynthesis to produce energy, which is why plants are so important to our understanding of the world. Plants are the primary source of energy for the Earth. Plants are the primary source of energy for the Earth. Plants are the primary source of energy for the Earth. Plants are the primary source of energy for the Earth. Plants are the primary source of energy for the Earth. Plants are the primary source of energy for the Earth. Plants are the primary source of energy for the Earth. Plants are the primary source of energy for the Earth. Plants are the primary source of energy for the Earth. Plants are the primary source of energy for the Earth. Plants are the primary source of energy for the Earth. Plants are the primary source of energy for the Earth. Plants are the primary source of energy for the Earth. Plants are the primary source of energy for the Earth. Plants are the primary source of energy for the Earth. Plants are the primary source of energy for the Earth. Plants are the primary source of energy for the Earth. Plants are the primary source of energy for the Earth.\n"
     ]
    }
   ],
   "source": [
    "prompt = 'A fundamental chemical fact about plants is their ability to perform photosynthesis, a process where they convert light energy into chemical energy in the form of sugars. This process utilizes'\n",
    "result = generator(prompt, max_length=120, temperature=0.2, )\n",
    "print(result[0]['generated_text'])"
   ]
  },
  {
   "cell_type": "code",
   "execution_count": 54,
   "id": "01135107-d320-49c0-8bc9-a22d323fd7bf",
   "metadata": {},
   "outputs": [
    {
     "name": "stderr",
     "output_type": "stream",
     "text": [
      "Setting `pad_token_id` to `eos_token_id`:50256 for open-end generation.\n",
      "Both `max_new_tokens` (=256) and `max_length`(=120) seem to have been set. `max_new_tokens` will take precedence. Please refer to the documentation for more information. (https://huggingface.co/docs/transformers/main/en/main_classes/text_generation)\n"
     ]
    },
    {
     "name": "stdout",
     "output_type": "stream",
     "text": [
      "A fundamental chemical fact about plants is their ability to perform photosynthesis, a process where they convert light energy into chemical energy in the form of sugars. This process utilizes sunlight to create photosynthetic sugars and carbon dioxide. Plants are also able to use photosynthesis to grow their own food.\n",
      "\n",
      "Many of the plant's photosynthetic sugars and sugars are produced by photosynthesis itself, a process that makes up the majority of the energy needed to produce food. The photosynthetic sugars and sugars in plants are actually the energy that is needed to make the plants' food. Plants use photosynthesis to grow their own food, and the photosynthetic sugars and sugars that are produced by the photosynthesis act as energy sources for the plants.\n",
      "\n",
      "How is Plants Fighting Back Against The Growing Food Crisis?\n",
      "\n",
      "The world economy is struggling for energy as well as food, and the world is facing a food crisis. The world economy is struggling to keep up with the growing food crisis, and the world is facing a food crisis in the form of the food crisis.\n",
      "\n",
      "To put it simply, we are facing a food crisis in the form of food shortages. The world is facing the food crisis because of the growing food crisis in the form of food prices. The world is facing the food crisis because of the growing food crisis because of the growing food crisis because of the growing food crisis because of the growing food crisis because of the\n"
     ]
    }
   ],
   "source": [
    "prompt = 'A fundamental chemical fact about plants is their ability to perform photosynthesis, a process where they convert light energy into chemical energy in the form of sugars. This process utilizes'\n",
    "result = generator(prompt, max_length=120, temperature=0.6, )\n",
    "print(result[0]['generated_text'])"
   ]
  },
  {
   "cell_type": "markdown",
   "id": "de0d0d32",
   "metadata": {},
   "source": [
    "## Reflection\n",
    "\n",
    "Now that you have experimented with text generation, write a brief report on your observations.\n",
    "\n",
    "1. What patterns did you notice in the generated text?\n",
    "2. How did changing the temperature affect the creativity and coherence of the text?\n",
    "3. What types of prompts yielded the most coherent results?\n",
    "4. What are the limitations of GPT-2 based on your experimentation?"
   ]
  }
 ],
 "metadata": {
  "kernelspec": {
   "display_name": "Python [conda env:base] *",
   "language": "python",
   "name": "conda-base-py"
  },
  "language_info": {
   "codemirror_mode": {
    "name": "ipython",
    "version": 3
   },
   "file_extension": ".py",
   "mimetype": "text/x-python",
   "name": "python",
   "nbconvert_exporter": "python",
   "pygments_lexer": "ipython3",
   "version": "3.12.7"
  }
 },
 "nbformat": 4,
 "nbformat_minor": 5
}
