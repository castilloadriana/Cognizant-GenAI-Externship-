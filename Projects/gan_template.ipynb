{
 "cells": [
  {
   "cell_type": "markdown",
   "id": "f2dfee73",
   "metadata": {},
   "source": [
    "# GANs Image Generation\n",
    "\n",
    "In this notebook, we will explore how Generative Adversarial Networks (GANs) generate images. We will use a pretrained GAN model (BigGAN) to generate images from random noise.\n",
    "\n",
    "## Instructions\n",
    "1. Run the code below to generate an image from random noise.\n",
    "2. Modify the latent vector to generate different images.\n",
    "3. Experiment with generating different images by altering the latent vector and visualizing the results.\n"
   ]
  },
  {
   "cell_type": "code",
   "execution_count": 1,
   "id": "1c1448e7",
   "metadata": {},
   "outputs": [],
   "source": [
    "import torch\n",
    "from transformers import BigGAN\n",
    "from torchvision import transforms\n",
    "from PIL import Image\n",
    "\n",
    "# Load pretrained BigGAN model\n",
    "model = BigGAN.from_pretrained('biggan-deep-256')\n",
    "\n",
    "# Generate random latent vector (noise)\n",
    "latent_vector = torch.randn(1, 128)  # 128 is the size of the input vector for BigGAN\n",
    "\n",
    "# Generate image\n",
    "with torch.no_grad():\n",
    "    generated_image = model(latent_vector)\n",
    "\n",
    "# Convert the tensor to a displayable image\n",
    "generated_image = generated_image.squeeze().cpu().numpy()\n",
    "generated_image = (generated_image * 255).astype('uint8')\n",
    "Image.fromarray(generated_image)"
   ]
  },
  {
   "cell_type": "code",
   "execution_count": 2,
   "id": "a0053511",
   "metadata": {},
   "outputs": [],
   "source": [
    "# Experiment with different latent vectors\n",
    "latent_vector = torch.randn(1, 128)  # Change this to explore different random vectors\n",
    "with torch.no_grad():\n",
    "    generated_image = model(latent_vector)\n",
    "generated_image = generated_image.squeeze().cpu().numpy()\n",
    "generated_image = (generated_image * 255).astype('uint8')\n",
    "Image.fromarray(generated_image)"
   ]
  },
  {
   "cell_type": "markdown",
   "id": "bff7b1ff",
   "metadata": {},
   "source": [
    "## Reflection\n",
    "\n",
    "Now that you have generated images, write a brief report reflecting on your observations:\n",
    "\n",
    "1. How did the generated images change when you modified the latent vector?\n",
    "2. What patterns did you notice in the generated images? Were they realistic?\n",
    "3. How does the process of generating images from noise differ from traditional image generation methods?\n",
    "4. What challenges or limitations did you observe with the GAN model?"
   ]
  }
 ],
 "metadata": {
  "kernelspec": {
   "display_name": "Python 3",
   "language": "python",
   "name": "python3"
  },
  "language_info": {
   "codemirror_mode": {
    "name": "ipython",
    "version": 3
   },
   "file_extension": ".py",
   "mimetype": "text/x-python",
   "name": "python",
   "nbconvert_exporter": "python",
   "version": "3.8.8"
  }
 },
 "nbformat": 4,
 "nbformat_minor": 5
}
